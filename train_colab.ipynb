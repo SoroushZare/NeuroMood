{
 "cells": [
  {
   "cell_type": "markdown",
   "id": "5aa14b2b",
   "metadata": {},
   "source": [
    "# EEG Emotion Classification with Transformers (PyTorch)"
   ]
  },
  {
   "cell_type": "code",
   "execution_count": null,
   "id": "f77b9da8",
   "metadata": {},
   "outputs": [],
   "source": [
    "!pip install torch numpy"
   ]
  },
  {
   "cell_type": "code",
   "execution_count": null,
   "id": "de8dce5a",
   "metadata": {},
   "outputs": [],
   "source": [
    "import torch\n",
    "import numpy as np\n",
    "from torch import nn, optim\n",
    "from torch.utils.data import DataLoader, Dataset\n"
   ]
  },
  {
   "cell_type": "code",
   "execution_count": null,
   "id": "0c00f914",
   "metadata": {},
   "outputs": [],
   "source": [
    "\n",
    "class EEGDataset(Dataset):\n",
    "    def __init__(self, data_path):\n",
    "        data = np.load(data_path, allow_pickle=True).item()\n",
    "        self.X = torch.tensor(data['X'], dtype=torch.float32)\n",
    "        self.y = torch.tensor(data['y'], dtype=torch.long)\n",
    "\n",
    "    def __len__(self):\n",
    "        return len(self.X)\n",
    "\n",
    "    def __getitem__(self, idx):\n",
    "        return self.X[idx], self.y[idx]\n"
   ]
  },
  {
   "cell_type": "code",
   "execution_count": null,
   "id": "41eec321",
   "metadata": {},
   "outputs": [],
   "source": [
    "\n",
    "class EEGTransformer(nn.Module):\n",
    "    def __init__(self, input_dim, num_classes, n_heads=4, n_layers=2):\n",
    "        super().__init__()\n",
    "        self.embedding = nn.Linear(input_dim, 64)\n",
    "        encoder_layer = nn.TransformerEncoderLayer(d_model=64, nhead=n_heads)\n",
    "        self.transformer = nn.TransformerEncoder(encoder_layer, num_layers=n_layers)\n",
    "        self.classifier = nn.Sequential(\n",
    "            nn.Linear(64, 32),\n",
    "            nn.ReLU(),\n",
    "            nn.Linear(32, num_classes)\n",
    "        )\n",
    "\n",
    "    def forward(self, x):\n",
    "        x = self.embedding(x)\n",
    "        x = self.transformer(x)\n",
    "        x = x.mean(dim=1)\n",
    "        return self.classifier(x)\n"
   ]
  },
  {
   "cell_type": "code",
   "execution_count": null,
   "id": "41566e71",
   "metadata": {},
   "outputs": [],
   "source": [
    "\n",
    "# Generate fake EEG data\n",
    "samples, time_steps, channels, classes = 500, 128, 32, 3\n",
    "X = np.random.randn(samples, time_steps, channels)\n",
    "y = np.random.randint(0, classes, size=(samples,))\n",
    "np.save(\"demo_eeg.npy\", {\"X\": X, \"y\": y})\n",
    "print(\"Fake EEG dataset saved as demo_eeg.npy\")\n"
   ]
  },
  {
   "cell_type": "code",
   "execution_count": null,
   "id": "75a2b4c5",
   "metadata": {},
   "outputs": [],
   "source": [
    "\n",
    "device = torch.device(\"cuda\" if torch.cuda.is_available() else \"cpu\")\n",
    "\n",
    "train_set = EEGDataset(\"demo_eeg.npy\")\n",
    "train_loader = DataLoader(train_set, batch_size=16, shuffle=True)\n",
    "\n",
    "model = EEGTransformer(input_dim=32, num_classes=3).to(device)\n",
    "loss_fn = nn.CrossEntropyLoss()\n",
    "optimizer = optim.Adam(model.parameters(), lr=1e-3)\n",
    "\n",
    "for epoch in range(10):\n",
    "    model.train()\n",
    "    total_loss = 0\n",
    "    for X, y in train_loader:\n",
    "        X, y = X.to(device), y.to(device)\n",
    "        pred = model(X)\n",
    "        loss = loss_fn(pred, y)\n",
    "\n",
    "        optimizer.zero_grad()\n",
    "        loss.backward()\n",
    "        optimizer.step()\n",
    "        total_loss += loss.item()\n",
    "\n",
    "    print(f\"Epoch {epoch+1}, Loss: {total_loss:.4f}\")\n"
   ]
  }
 ],
 "metadata": {},
 "nbformat": 4,
 "nbformat_minor": 5
}
